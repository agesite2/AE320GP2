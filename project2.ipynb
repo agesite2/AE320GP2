{
 "cells": [
  {
   "cell_type": "markdown",
   "id": "f1211cfb",
   "metadata": {},
   "source": [
    "## Imports"
   ]
  },
  {
   "cell_type": "code",
   "execution_count": 1,
   "id": "3149bc10",
   "metadata": {},
   "outputs": [],
   "source": [
    "import numpy as np\n",
    "import matplotlib.pyplot as plt"
   ]
  },
  {
   "cell_type": "markdown",
   "id": "702c6e52",
   "metadata": {},
   "source": [
    "## Constants"
   ]
  },
  {
   "cell_type": "code",
   "execution_count": 2,
   "id": "317507fe",
   "metadata": {},
   "outputs": [],
   "source": [
    "acc = 5         # m/s^2\n",
    "l = 0.0254      # m \n",
    "c = 1           # m/s\n",
    "T = 2\n",
    "\n",
    "a = 1\n",
    "b = 0\n",
    "n = 5000\n",
    "dt = 1000"
   ]
  },
  {
   "cell_type": "markdown",
   "id": "f3b56c86",
   "metadata": {},
   "source": [
    "## Functions"
   ]
  },
  {
   "cell_type": "code",
   "execution_count": 15,
   "id": "29d63055",
   "metadata": {},
   "outputs": [],
   "source": [
    "def A_matrix(a, b, n, dt):\n",
    "    \"\"\"\n",
    "    Returns the A matrix\n",
    "    \"\"\"\n",
    "    x = np.linspace(a, b, n+1)\n",
    "    dx = x[1] - x[0]\n",
    "    \n",
    "    cc = (c * dt / dx)**2\n",
    "    A = cc * (np.diag(np.ones(n-1), k=-1) + np.diag(-2*np.ones(n)) + np.diag(np.ones(n-1), k=1))\n",
    "    return A"
   ]
  },
  {
   "cell_type": "code",
   "execution_count": 14,
   "id": "9f468ebf",
   "metadata": {
    "scrolled": true
   },
   "outputs": [
    {
     "name": "stdout",
     "output_type": "stream",
     "text": [
      "[[-49999998.00000001  25000000.00000001         0.\n",
      "          0.                 0.        ]\n",
      " [ 25000000.00000001 -49999998.00000001  25000000.00000001\n",
      "          0.                 0.        ]\n",
      " [        0.          25000000.00000001 -49999998.00000001\n",
      "   25000000.00000001         0.        ]\n",
      " [        0.                 0.          25000000.00000001\n",
      "  -49999998.00000001  25000000.00000001]\n",
      " [        0.                 0.                 0.\n",
      "   25000000.00000001 -49999998.00000001]]\n"
     ]
    }
   ],
   "source": [
    "print(A_matrix(a, b, n, dt))"
   ]
  },
  {
   "cell_type": "code",
   "execution_count": 17,
   "id": "be25fbd9",
   "metadata": {},
   "outputs": [],
   "source": [
    "def ivp_trap(a, b, n, dt, T,  x):\n",
    "    \"\"\"\n",
    "    Returns the approximated solution matrix using the trapezoid method\n",
    "    \"\"\"\n",
    "    A = A_matrix(a, b, n, dt)\n",
    "    time = np.arange(0, T + dt, dt)\n",
    "    u = np.zeros([len(time), len(u_0)])\n",
    "    for i in range(len(time)):\n",
    "        if i == 0:\n",
    "            u[0] = u_0\n",
    "        if i > 0:\n",
    "            denom = np.eye(A.shape[0]) - 0.5 * deltaT * A\n",
    "            numer = u[i-1] + 0.5*deltaT*A@u[i-1] # + 0.5*deltaT*func(x,time[i-1]) + 0.5*deltaT*func(x,time[i-1] + deltaT)\n",
    "            u[i] = np.linalg.solve(denom, numer)\n",
    "    return u, time"
   ]
  },
  {
   "cell_type": "code",
   "execution_count": null,
   "id": "486e4e5c",
   "metadata": {},
   "outputs": [],
   "source": [
    "print(ivp_trap(a, b, n, dt, T, x))"
   ]
  }
 ],
 "metadata": {
  "kernelspec": {
   "display_name": "Python 3 (ipykernel)",
   "language": "python",
   "name": "python3"
  },
  "language_info": {
   "codemirror_mode": {
    "name": "ipython",
    "version": 3
   },
   "file_extension": ".py",
   "mimetype": "text/x-python",
   "name": "python",
   "nbconvert_exporter": "python",
   "pygments_lexer": "ipython3",
   "version": "3.9.13"
  }
 },
 "nbformat": 4,
 "nbformat_minor": 5
}
