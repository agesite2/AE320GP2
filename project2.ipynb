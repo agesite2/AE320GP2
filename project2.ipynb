{
 "cells": [
  {
   "cell_type": "markdown",
   "id": "2512b004",
   "metadata": {},
   "source": [
    "# Imports"
   ]
  },
  {
   "cell_type": "code",
   "execution_count": 1,
   "id": "780a2b69",
   "metadata": {},
   "outputs": [],
   "source": [
    "import numpy as np\n",
    "import sympy\n",
    "import matplotlib.pyplot as plt"
   ]
  },
  {
   "cell_type": "markdown",
   "id": "e077bc87",
   "metadata": {},
   "source": [
    "# Constants"
   ]
  },
  {
   "cell_type": "markdown",
   "id": "9dbf283a",
   "metadata": {},
   "source": [
    "### Geometric Constants"
   ]
  },
  {
   "cell_type": "code",
   "execution_count": 2,
   "id": "1476cbf6",
   "metadata": {},
   "outputs": [],
   "source": [
    "E = 26.2 * 10**9                # elastic modulus of aluminum (Pa)\n",
    "rho = 2700                      # density of aluminum (kg/m^3)\n",
    "l = 34 / 39.37                  # length of bat (m) \n",
    "r = 1.25 / 39.37                # radius of baseball bat (m)\n",
    "m = rho * l * np.pi * r**2      # mass of bat (kg)\n",
    "F = 18000                       # force of ball on bat (N)"
   ]
  },
  {
   "cell_type": "markdown",
   "id": "a38b40df",
   "metadata": {},
   "source": [
    "### Wave Constants"
   ]
  },
  {
   "cell_type": "code",
   "execution_count": 3,
   "id": "8ec415d3",
   "metadata": {},
   "outputs": [],
   "source": [
    "k = E * (np.pi * r**2) / l               # spring constant (N/m)\n",
    "period = 2 * np.pi * (m / k)**(1/2)      # period (s)\n",
    "c = (E / rho)**(1/2)                     # wave speed (m/s)\n",
    "lamb = c / (1/period)                    # wavelength (m)"
   ]
  },
  {
   "cell_type": "code",
   "execution_count": 4,
   "id": "0b247cd9",
   "metadata": {},
   "outputs": [],
   "source": [
    "amplitude = F / k                        # amplitude (ie: initial deformation) (m)\n",
    "waveNumber = 2 * np.pi / lamb            # wave number\n",
    "omega = 2 * np.pi * (1 / period)         # angular frequency"
   ]
  },
  {
   "cell_type": "code",
   "execution_count": 5,
   "id": "449bfebb",
   "metadata": {},
   "outputs": [
    {
     "name": "stdout",
     "output_type": "stream",
     "text": [
      "amplitude = 0.00018734652712212944\n",
      "waveNumber = 1.157941176470588\n",
      "omega = 3607.0757380434993\n"
     ]
    }
   ],
   "source": [
    "print(\"amplitude =\", amplitude)\n",
    "print(\"waveNumber =\", waveNumber)\n",
    "print(\"omega =\", omega)"
   ]
  },
  {
   "cell_type": "markdown",
   "id": "78e8c73c",
   "metadata": {},
   "source": [
    "### Approximation Constants"
   ]
  },
  {
   "cell_type": "code",
   "execution_count": 6,
   "id": "b3a9d17b",
   "metadata": {},
   "outputs": [],
   "source": [
    "T1 = 0                     \n",
    "T2 = 0.01\n",
    "a = 0\n",
    "b = l\n",
    "n = 500"
   ]
  },
  {
   "cell_type": "markdown",
   "id": "db89ce13",
   "metadata": {},
   "source": [
    "# Estimation Functions"
   ]
  },
  {
   "cell_type": "code",
   "execution_count": 7,
   "id": "948de49e",
   "metadata": {},
   "outputs": [],
   "source": [
    "# Determine RHS using symbolic differentiation\n",
    "t = sympy.Symbol('T'); x = sympy.Symbol('X')\n",
    "uexa = amplitude * sympy.sin(waveNumber*x - omega*t)\n",
    "# uexa = sympy.sin(x)\n",
    "# RHS symbolic function\n",
    "f = sympy.diff(uexa, t) - c**2*sympy.diff(sympy.diff(uexa,x), x)\n",
    "# Making rhs function callable\n",
    "func = sympy.lambdify((x, t), f)\n",
    "g = func"
   ]
  },
  {
   "cell_type": "code",
   "execution_count": 8,
   "id": "d657c244",
   "metadata": {},
   "outputs": [],
   "source": [
    "def u_e(x, t):\n",
    "    \"\"\"\n",
    "    Returns the exact solution of the wave function (CURRENTLY WRONG)\n",
    "    \"\"\"\n",
    "    amplitude = F / k                        # amplitude (ie: initial deformation) (m)\n",
    "    waveNumber = 2 * np.pi / lamb            # wave number\n",
    "    omega = 2 * np.pi * (1 / period)         # angular frequency\n",
    "    \n",
    "    return amplitude * np.sin(waveNumber*x - omega*t)\n",
    "    # return np.sin(x)"
   ]
  },
  {
   "cell_type": "code",
   "execution_count": 9,
   "id": "eeb0a169",
   "metadata": {},
   "outputs": [],
   "source": [
    "def A_matrix(a, b, n):\n",
    "    \"\"\"\n",
    "    Returns the A matrix\n",
    "    \"\"\"\n",
    "    x = np.linspace(a, b, n+1)\n",
    "    dx = x[1] - x[0]\n",
    "\n",
    "    cc = (c / dx)**2\n",
    "    print(c**2)\n",
    "    A = cc * (np.eye(n-1, k=-1) - 2*np.eye(n-1) + np.eye(n-1, k=1))\n",
    "    return A"
   ]
  },
  {
   "cell_type": "code",
   "execution_count": 10,
   "id": "97b71a11",
   "metadata": {},
   "outputs": [],
   "source": [
    "def ivp_trap(a, b, T1, T2, n, u_0):\n",
    "    \"\"\"\n",
    "    Returns the approximated solution matrix using the trapezoid method\n",
    "    \"\"\"\n",
    "    A = A_matrix(a, b, n)\n",
    "    t = np.linspace(T1, T2, n+1)\n",
    "    dt = t[1] - t[0]\n",
    "    \n",
    "    u = np.zeros([len(t), len(u_0)])\n",
    "    for i in range(len(t)):\n",
    "        if i == 0:\n",
    "            u[0] = u_0\n",
    "        if i > 0:\n",
    "            denom = np.eye(A.shape[0]) - 0.5 * dt * A\n",
    "            numer = u[i-1] + 0.5*dt*A@u[i-1]  + 0.5*dt*func(x,t[i-1]) + 0.5*dt*func(x,t[i-1] + dt)\n",
    "            u[i] = np.linalg.solve(denom, numer)\n",
    "    return u"
   ]
  },
  {
   "cell_type": "markdown",
   "id": "5bdf2cdc",
   "metadata": {},
   "source": [
    "# Plotting"
   ]
  },
  {
   "cell_type": "code",
   "execution_count": 11,
   "id": "185aa134",
   "metadata": {},
   "outputs": [
    {
     "name": "stdout",
     "output_type": "stream",
     "text": [
      "9703703.703703703\n"
     ]
    }
   ],
   "source": [
    "# initializing lists\n",
    "x_list = []\n",
    "u_list = []\n",
    "ut_list = []\n",
    "err_list = []\n",
    "\n",
    "# filling lists\n",
    "x = np.linspace(a, b, n+1)[1:n]\n",
    "t = np.linspace(T1, T2, n+1)[1:n]\n",
    "\n",
    "u_0 = u_e(x, 0)\n",
    "u  = ivp_trap(a, b, T1, T2, n, u_0)\n",
    "ut = [u_e(x, t) for j in x]\n",
    "\n",
    "x_list.append(x)\n",
    "u_list.append(u[500])\n",
    "ut_list.append(ut)\n",
    "# err_list.append(trap_error(u[500], ut))"
   ]
  },
  {
   "cell_type": "code",
   "execution_count": 12,
   "id": "9b969c4d",
   "metadata": {
    "scrolled": true
   },
   "outputs": [
    {
     "data": {
      "text/plain": [
       "<matplotlib.legend.Legend at 0x25a86be0460>"
      ]
     },
     "execution_count": 12,
     "metadata": {},
     "output_type": "execute_result"
    },
    {
     "data": {
      "image/png": "[encoded data removed]",
      "text/plain": [
       "<Figure size 800x600 with 1 Axes>"
      ]
     },
     "metadata": {},
     "output_type": "display_data"
    }
   ],
   "source": [
    "# plots\n",
    "fig = plt.figure(figsize=(8, 6), tight_layout=True)\n",
    "\n",
    "ax1 = fig.add_subplot(221)\n",
    "ax1.plot(x_list[0], u_list[0], label = \"u\")\n",
    "ax1.plot(x_list[0], ut_list[0][0], label = \"u true\")\n",
    "plt.xlabel(\"x (m)\")\n",
    "plt.ylabel(\"deformation (m)\")\n",
    "plt.legend()"
   ]
  }
 ],
 "metadata": {
  "kernelspec": {
   "display_name": "Python 3 (ipykernel)",
   "language": "python",
   "name": "python3"
  },
  "language_info": {
   "codemirror_mode": {
    "name": "ipython",
    "version": 3
   },
   "file_extension": ".py",
   "mimetype": "text/x-python",
   "name": "python",
   "nbconvert_exporter": "python",
   "pygments_lexer": "ipython3",
   "version": "3.9.13"
  }
 },
 "nbformat": 4,
 "nbformat_minor": 5
}
