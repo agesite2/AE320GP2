{
 "cells": [
  {
   "cell_type": "markdown",
   "id": "2512b004",
   "metadata": {},
   "source": [
    "## Imports"
   ]
  },
  {
   "cell_type": "code",
   "execution_count": 1,
   "id": "780a2b69",
   "metadata": {},
   "outputs": [],
   "source": [
    "import numpy as np\n",
    "import sympy\n",
    "import matplotlib.pyplot as plt"
   ]
  },
  {
   "cell_type": "markdown",
   "id": "e077bc87",
   "metadata": {},
   "source": [
    "## Constants"
   ]
  },
  {
   "cell_type": "code",
   "execution_count": 2,
   "id": "1476cbf6",
   "metadata": {},
   "outputs": [],
   "source": [
    "E = 26.2 * 10**9                # elastic modulus of aluminum (Pa)\n",
    "rho = 2700                      # density of aluminum (kg/m^3)\n",
    "l = 34 / 39.37                  # length of bat (m) \n",
    "r = 1.25 / 39.37                # radius of baseball bat (m)\n",
    "m = rho * l * np.pi * r**2      # mass of bat (kg)\n",
    "F = 18000                       # force of ball on bat (N)\n",
    "\n",
    "T = 20                           # elapsed time (s)\n",
    "\n",
    "a = 0\n",
    "b = l\n",
    "n = 200\n",
    "dt = 10**-3"
   ]
  },
  {
   "cell_type": "code",
   "execution_count": 3,
   "id": "b2dc5d7c",
   "metadata": {},
   "outputs": [
    {
     "name": "stdout",
     "output_type": "stream",
     "text": [
      "96078642.48407428\n"
     ]
    }
   ],
   "source": [
    "k = E * (np.pi * r**2) / l\n",
    "period = 2 * np.pi * (m / k)**(1/2)\n",
    "c = (E / rho)\n",
    "lamb = c * period\n",
    "\n",
    "print(k)"
   ]
  },
  {
   "cell_type": "code",
   "execution_count": 4,
   "id": "d0615773",
   "metadata": {},
   "outputs": [],
   "source": [
    "# # Determine RHS using symbolic differentiation\n",
    "# t = sympy.Symbol('T'); x = sympy.Symbol('X')\n",
    "# uexa = sympy.sin(sympy.sin(np.pi*(x-a)/(b-a)))\n",
    "# # RHS symbolic function\n",
    "# f = sympy.diff(uexa, t) - c**2*sympy.diff(sympy.diff(uexa,x), x)\n",
    "# # Making rhs function callable\n",
    "# func = sympy.lambdify((x, t), f)\n",
    "# g = func"
   ]
  },
  {
   "cell_type": "markdown",
   "id": "db89ce13",
   "metadata": {},
   "source": [
    "## Estimation Functions"
   ]
  },
  {
   "cell_type": "code",
   "execution_count": 5,
   "id": "d657c244",
   "metadata": {},
   "outputs": [],
   "source": [
    "def u_e(x, t):\n",
    "    \"\"\"\n",
    "    Returns the exact solution of the wave function (CURRENTLY WRONG)\n",
    "    \"\"\"\n",
    "    \n",
    "    amplitude = F / k\n",
    "    waveNumber = 2 * np.pi / lamb\n",
    "    omega = 2 * np.pi * (1 / period)\n",
    "    \n",
    "    print(\"k\", k)\n",
    "#     print(\"c\", c)\n",
    "#     print(\"period\", period)\n",
    "#     print(\"lamb\", lamb)\n",
    "#     print(\"waveNumber\", waveNumber)\n",
    "    \n",
    "#     print(\"amplitude\", amplitude)\n",
    "    \n",
    "    return amplitude * np.sin(waveNumber*x + omega*t) # * np.exp(-8*x) * * np.exp(-8*t)\n",
    "    # return np.sin(x)"
   ]
  },
  {
   "cell_type": "code",
   "execution_count": 6,
   "id": "e3a3c9fd",
   "metadata": {},
   "outputs": [
    {
     "name": "stdout",
     "output_type": "stream",
     "text": [
      "k 96078642.48407428\n"
     ]
    },
    {
     "data": {
      "text/plain": [
       "[<matplotlib.lines.Line2D at 0x25a0f3849d0>]"
      ]
     },
     "execution_count": 6,
     "metadata": {},
     "output_type": "execute_result"
    },
    {
     "data": {
      "image/png": "[encoded data removed]",
      "text/plain": [
       "<Figure size 640x480 with 1 Axes>"
      ]
     },
     "metadata": {},
     "output_type": "display_data"
    }
   ],
   "source": [
    "xx = np.linspace(0, 100, 1000)\n",
    "plt.plot(xx, u_e(xx, 0))"
   ]
  },
  {
   "cell_type": "code",
   "execution_count": 7,
   "id": "eeb0a169",
   "metadata": {},
   "outputs": [],
   "source": [
    "def A_matrix(a, b, n, dt):\n",
    "    \"\"\"\n",
    "    Returns the A matrix\n",
    "    \"\"\"\n",
    "    x = np.linspace(a, b, n+1)\n",
    "    dx = x[1] - x[0]\n",
    "    cc = (c * dt / dx)**2\n",
    "    A = cc * (np.eye(n-1, k=-1) - 2*np.eye(n-1) + np.eye(n-1, k=1))\n",
    "    return A"
   ]
  },
  {
   "cell_type": "code",
   "execution_count": 8,
   "id": "97b71a11",
   "metadata": {},
   "outputs": [],
   "source": [
    "def ivp_trap(a, b, n, dt, T, u_0):\n",
    "    \"\"\"\n",
    "    Returns the approximated solution matrix using the trapezoid method\n",
    "    \"\"\"\n",
    "    A = A_matrix(a, b, n, dt)\n",
    "    time = np.arange(0, T + dt, dt)\n",
    "    u = np.zeros([len(time), len(u_0)])\n",
    "    for i in range(len(time)):\n",
    "        if i == 0:\n",
    "            u[0] = u_0\n",
    "        if i > 0:\n",
    "            denom = np.eye(A.shape[0]) - 0.5 * dt * A\n",
    "            numer = u[i-1] + 0.5*dt*A@u[i-1] # + 0.5*dt*func(x,time[i-1]) + 0.5*dt*func(x,time[i-1] + dt)\n",
    "            u[i] = np.linalg.solve(denom, numer)\n",
    "#             print(\"Denom\", denom)\n",
    "#             print(\"Numer\", numer)\n",
    "    return u, time"
   ]
  },
  {
   "cell_type": "markdown",
   "id": "5bdf2cdc",
   "metadata": {},
   "source": [
    "## Plotting"
   ]
  },
  {
   "cell_type": "code",
   "execution_count": 9,
   "id": "185aa134",
   "metadata": {},
   "outputs": [
    {
     "name": "stdout",
     "output_type": "stream",
     "text": [
      "k 96078642.48407428\n",
      "k 96078642.48407428\n",
      "k 96078642.48407428\n",
      "k 96078642.48407428\n",
      "k 96078642.48407428\n",
      "k 96078642.48407428\n",
      "k 96078642.48407428\n",
      "k 96078642.48407428\n",
      "k 96078642.48407428\n",
      "k 96078642.48407428\n",
      "k 96078642.48407428\n",
      "k 96078642.48407428\n",
      "k 96078642.48407428\n",
      "k 96078642.48407428\n",
      "k 96078642.48407428\n",
      "k 96078642.48407428\n",
      "k 96078642.48407428\n",
      "k 96078642.48407428\n",
      "k 96078642.48407428\n",
      "k 96078642.48407428\n",
      "k 96078642.48407428\n",
      "k 96078642.48407428\n",
      "k 96078642.48407428\n",
      "k 96078642.48407428\n",
      "k 96078642.48407428\n",
      "k 96078642.48407428\n",
      "k 96078642.48407428\n",
      "k 96078642.48407428\n",
      "k 96078642.48407428\n",
      "k 96078642.48407428\n",
      "k 96078642.48407428\n",
      "k 96078642.48407428\n",
      "k 96078642.48407428\n",
      "k 96078642.48407428\n",
      "k 96078642.48407428\n",
      "k 96078642.48407428\n",
      "k 96078642.48407428\n",
      "k 96078642.48407428\n",
      "k 96078642.48407428\n",
      "k 96078642.48407428\n",
      "k 96078642.48407428\n",
      "k 96078642.48407428\n",
      "k 96078642.48407428\n",
      "k 96078642.48407428\n",
      "k 96078642.48407428\n",
      "k 96078642.48407428\n",
      "k 96078642.48407428\n",
      "k 96078642.48407428\n",
      "k 96078642.48407428\n",
      "k 96078642.48407428\n",
      "k 96078642.48407428\n",
      "k 96078642.48407428\n",
      "k 96078642.48407428\n",
      "k 96078642.48407428\n",
      "k 96078642.48407428\n",
      "k 96078642.48407428\n",
      "k 96078642.48407428\n",
      "k 96078642.48407428\n",
      "k 96078642.48407428\n",
      "k 96078642.48407428\n",
      "k 96078642.48407428\n",
      "k 96078642.48407428\n",
      "k 96078642.48407428\n",
      "k 96078642.48407428\n",
      "k 96078642.48407428\n",
      "k 96078642.48407428\n",
      "k 96078642.48407428\n",
      "k 96078642.48407428\n",
      "k 96078642.48407428\n",
      "k 96078642.48407428\n",
      "k 96078642.48407428\n",
      "k 96078642.48407428\n",
      "k 96078642.48407428\n",
      "k 96078642.48407428\n",
      "k 96078642.48407428\n",
      "k 96078642.48407428\n",
      "k 96078642.48407428\n",
      "k 96078642.48407428\n",
      "k 96078642.48407428\n",
      "k 96078642.48407428\n",
      "k 96078642.48407428\n",
      "k 96078642.48407428\n",
      "k 96078642.48407428\n",
      "k 96078642.48407428\n",
      "k 96078642.48407428\n",
      "k 96078642.48407428\n",
      "k 96078642.48407428\n",
      "k 96078642.48407428\n",
      "k 96078642.48407428\n",
      "k 96078642.48407428\n",
      "k 96078642.48407428\n",
      "k 96078642.48407428\n",
      "k 96078642.48407428\n",
      "k 96078642.48407428\n",
      "k 96078642.48407428\n",
      "k 96078642.48407428\n",
      "k 96078642.48407428\n",
      "k 96078642.48407428\n",
      "k 96078642.48407428\n",
      "k 96078642.48407428\n",
      "k 96078642.48407428\n",
      "k 96078642.48407428\n",
      "k 96078642.48407428\n",
      "k 96078642.48407428\n",
      "k 96078642.48407428\n",
      "k 96078642.48407428\n",
      "k 96078642.48407428\n",
      "k 96078642.48407428\n",
      "k 96078642.48407428\n",
      "k 96078642.48407428\n",
      "k 96078642.48407428\n",
      "k 96078642.48407428\n",
      "k 96078642.48407428\n",
      "k 96078642.48407428\n",
      "k 96078642.48407428\n",
      "k 96078642.48407428\n",
      "k 96078642.48407428\n",
      "k 96078642.48407428\n",
      "k 96078642.48407428\n",
      "k 96078642.48407428\n",
      "k 96078642.48407428\n",
      "k 96078642.48407428\n",
      "k 96078642.48407428\n",
      "k 96078642.48407428\n",
      "k 96078642.48407428\n",
      "k 96078642.48407428\n",
      "k 96078642.48407428\n",
      "k 96078642.48407428\n",
      "k 96078642.48407428\n",
      "k 96078642.48407428\n",
      "k 96078642.48407428\n",
      "k 96078642.48407428\n",
      "k 96078642.48407428\n",
      "k 96078642.48407428\n",
      "k 96078642.48407428\n",
      "k 96078642.48407428\n",
      "k 96078642.48407428\n",
      "k 96078642.48407428\n",
      "k 96078642.48407428\n",
      "k 96078642.48407428\n",
      "k 96078642.48407428\n",
      "k 96078642.48407428\n",
      "k 96078642.48407428\n",
      "k 96078642.48407428\n",
      "k 96078642.48407428\n",
      "k 96078642.48407428\n",
      "k 96078642.48407428\n",
      "k 96078642.48407428\n",
      "k 96078642.48407428\n",
      "k 96078642.48407428\n",
      "k 96078642.48407428\n",
      "k 96078642.48407428\n",
      "k 96078642.48407428\n",
      "k 96078642.48407428\n",
      "k 96078642.48407428\n",
      "k 96078642.48407428\n",
      "k 96078642.48407428\n",
      "k 96078642.48407428\n",
      "k 96078642.48407428\n",
      "k 96078642.48407428\n",
      "k 96078642.48407428\n",
      "k 96078642.48407428\n",
      "k 96078642.48407428\n",
      "k 96078642.48407428\n",
      "k 96078642.48407428\n",
      "k 96078642.48407428\n",
      "k 96078642.48407428\n",
      "k 96078642.48407428\n",
      "k 96078642.48407428\n",
      "k 96078642.48407428\n",
      "k 96078642.48407428\n",
      "k 96078642.48407428\n",
      "k 96078642.48407428\n",
      "k 96078642.48407428\n",
      "k 96078642.48407428\n",
      "k 96078642.48407428\n",
      "k 96078642.48407428\n",
      "k 96078642.48407428\n",
      "k 96078642.48407428\n",
      "k 96078642.48407428\n",
      "k 96078642.48407428\n",
      "k 96078642.48407428\n",
      "k 96078642.48407428\n",
      "k 96078642.48407428\n",
      "k 96078642.48407428\n",
      "k 96078642.48407428\n",
      "k 96078642.48407428\n",
      "k 96078642.48407428\n",
      "k 96078642.48407428\n",
      "k 96078642.48407428\n",
      "k 96078642.48407428\n",
      "k 96078642.48407428\n",
      "k 96078642.48407428\n",
      "k 96078642.48407428\n",
      "k 96078642.48407428\n",
      "k 96078642.48407428\n",
      "k 96078642.48407428\n",
      "k 96078642.48407428\n",
      "k 96078642.48407428\n",
      "k 96078642.48407428\n"
     ]
    }
   ],
   "source": [
    "# initializing lists\n",
    "x_list = []\n",
    "u_list = []\n",
    "ut_list = []\n",
    "err_list = []\n",
    "\n",
    "# filling lists\n",
    "x = np.linspace(a, b, n+1)[1:n]\n",
    "u_0 = u_e(x, 0)\n",
    "u, time = ivp_trap(a, b, n, dt, T, u_0)\n",
    "ut = [u_e(x, time) for j in x]\n",
    "\n",
    "x_list.append(x)\n",
    "u_list.append(u[5000])\n",
    "ut_list.append(ut)\n",
    "# err_list.append(trap_error(u[500], ut))"
   ]
  },
  {
   "cell_type": "code",
   "execution_count": 10,
   "id": "9b969c4d",
   "metadata": {
    "scrolled": true
   },
   "outputs": [
    {
     "data": {
      "text/plain": [
       "<matplotlib.legend.Legend at 0x25a0ec33f10>"
      ]
     },
     "execution_count": 10,
     "metadata": {},
     "output_type": "execute_result"
    },
    {
     "data": {
      "image/png": "[encoded data removed]",
      "text/plain": [
       "<Figure size 800x600 with 1 Axes>"
      ]
     },
     "metadata": {},
     "output_type": "display_data"
    }
   ],
   "source": [
    "# plots\n",
    "fig = plt.figure(figsize=(8, 6), tight_layout=True)\n",
    "\n",
    "ax1 = fig.add_subplot(221)\n",
    "ax1.plot(x_list[0], u_list[0], label = \"u\")\n",
    "ax1.plot(x_list[0], ut_list[0][0], label = \"u true\")\n",
    "plt.xlabel(\"x (m)\")\n",
    "ax1.set_title('n = 200')\n",
    "plt.legend()"
   ]
  }
 ],
 "metadata": {
  "kernelspec": {
   "display_name": "Python 3 (ipykernel)",
   "language": "python",
   "name": "python3"
  },
  "language_info": {
   "codemirror_mode": {
    "name": "ipython",
    "version": 3
   },
   "file_extension": ".py",
   "mimetype": "text/x-python",
   "name": "python",
   "nbconvert_exporter": "python",
   "pygments_lexer": "ipython3",
   "version": "3.9.13"
  }
 },
 "nbformat": 4,
 "nbformat_minor": 5
}
